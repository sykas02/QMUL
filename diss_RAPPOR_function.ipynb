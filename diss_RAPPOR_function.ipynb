{
 "cells": [
  {
   "cell_type": "code",
   "execution_count": 9,
   "metadata": {},
   "outputs": [],
   "source": [
    "import matplotlib.pyplot as plt\n",
    "import numpy as np\n",
    "import random\n",
    "import hashlib"
   ]
  },
  {
   "cell_type": "code",
   "execution_count": 5,
   "metadata": {},
   "outputs": [],
   "source": [
    "def generate_data(n, mean, std):\n",
    "    \"\"\"\n",
    "    Generates an array of n samples from a normal distribution with the given mean and standard deviation.\n",
    "\n",
    "    Parameters:\n",
    "    n (int): Number of samples to generate.\n",
    "    mean (float): Mean of the normal distribution.\n",
    "    std (float): Standard deviation of the normal distribution.\n",
    "\n",
    "    Returns:\n",
    "    np.ndarray: An array of n samples from the normal distribution.\n",
    "    \"\"\"\n",
    "    data = np.random.normal(loc=mean, scale=std, size=n)\n",
    "    rounded_data = np.round(data).astype(int)  # Rounds the data to the nearest whole number\n",
    "    return rounded_data.astype(str)"
   ]
  },
  {
   "cell_type": "code",
   "execution_count": 29,
   "metadata": {},
   "outputs": [],
   "source": [
    "class BasicRappor():\n",
    "\n",
    "    def __init__(self, k, h, f, p, q):\n",
    "        assert type(k) == int, 'k error input'\n",
    "        assert type(h) == int, 'h error input'\n",
    "        assert f >= 0 and f <1, 'f error input'\n",
    "        assert q >= 0 and q <1, 'q error input'\n",
    "        assert p >= 0 and p <1, 'p error input'\n",
    "        self.k = k\n",
    "        self.h = h\n",
    "        self.f = f\n",
    "        self.p = p\n",
    "        self.q = q\n",
    "        self.max_index = k-1\n",
    "        self.reports = []\n",
    "\n",
    "    def clear_reports(self):\n",
    "        self.reports = []\n",
    "\n",
    "    def return_report(self, v):\n",
    "        # Step 1: Signal\n",
    "        B = self.hash_to_bloom_filter(v)\n",
    "\n",
    "        # Step 2: Permanent randomized response\n",
    "        B_prime = self.permanent_randomized_response(B)\n",
    "        # Step 3: Instantaneous randomized response\n",
    "        S = self.instantaneous_randomized_response(B_prime)\n",
    "\n",
    "        self.reports.append(S)\n",
    "        return[S]\n",
    "\n",
    "    def hash_to_index(self, s):\n",
    "        # Create a hash object using SHA-256\n",
    "        hash_object = hashlib.sha256(s.encode())\n",
    "        \n",
    "        # Get the hexadecimal representation of the hash\n",
    "        hex_digest = hash_object.hexdigest()\n",
    "        \n",
    "        # Convert the hex digest to an integer\n",
    "        hash_int = int(hex_digest, 16)\n",
    "        \n",
    "        # Normalize the integer to the desired range\n",
    "        range_size = self.max_index + 1\n",
    "        normalized_value = (hash_int % range_size)\n",
    "        \n",
    "        return normalized_value\n",
    "\n",
    "    def hash_to_bloom_filter(self, v):\n",
    "        assert type(v)==str, 'Value v must be a string'\n",
    "        # Simulate hashing the value v onto a Bloom filter B of size k using h hash functions\n",
    "        B = [0] * self.k\n",
    "        for i in range(self.h):\n",
    "            B[self.hash_to_index(v)] = 1\n",
    "        return B\n",
    "\n",
    "    def permanent_randomized_response(self, B):\n",
    "        k = len(B)\n",
    "        B_prime = [0] * k\n",
    "        for i in range(k):\n",
    "            rand_val = random.random() # Uniform random variable in [0,1]\n",
    "            if rand_val < 0.5 * self.f: # Checks if <1/2 f\n",
    "                B_prime[i] = 1\n",
    "            elif rand_val < self.f: # Checks if 1/2 f < p < f, so probability of f/2\n",
    "                B_prime[i] = 0\n",
    "            else:\n",
    "                B_prime[i] = B[i]\n",
    "        return B_prime\n",
    "\n",
    "    def instantaneous_randomized_response(self, B_prime):\n",
    "        k = len(B_prime)\n",
    "        S = [0] * k\n",
    "        for i in range(k):\n",
    "            if B_prime[i] == 1:\n",
    "                S[i] = 1 if random.random() < self.q else 0\n",
    "            else:\n",
    "                S[i] = 1 if random.random() < self.p else 0\n",
    "        return S\n",
    "\n",
    "\n",
    "\n"
   ]
  },
  {
   "cell_type": "code",
   "execution_count": 30,
   "metadata": {},
   "outputs": [],
   "source": [
    "# Example usage\n",
    "v = \"client_value\"  # Client's value\n",
    "k = 16  # Size of the Bloom filter\n",
    "h = 1  # Number of hash functions\n",
    "f = 0.3  # Longitudinal privacy guarantee parameter\n",
    "p = 0.3  # Probability for instantaneous response when B_prime[i] = 0\n",
    "q = 0.4  # Probability for instantaneous response when B_prime[i] = 1\n",
    "\n",
    "rappor = BasicRappor(k, h, f, p, q)\n"
   ]
  },
  {
   "cell_type": "code",
   "execution_count": 33,
   "metadata": {},
   "outputs": [
    {
     "data": {
      "text/plain": [
       "[[1, 0, 0, 0, 0, 0, 1, 0, 1, 1, 1, 0, 0, 0, 0, 0]]"
      ]
     },
     "execution_count": 33,
     "metadata": {},
     "output_type": "execute_result"
    }
   ],
   "source": [
    "rappor.return_report(v)"
   ]
  },
  {
   "cell_type": "code",
   "execution_count": 34,
   "metadata": {},
   "outputs": [
    {
     "data": {
      "text/plain": [
       "[[0, 0, 1, 1, 1, 1, 0, 0, 0, 0, 0, 1, 0, 1, 0, 1],\n",
       " [0, 0, 0, 0, 1, 0, 0, 0, 0, 0, 1, 0, 1, 0, 0, 1],\n",
       " [1, 0, 0, 0, 0, 0, 1, 0, 1, 1, 1, 0, 0, 0, 0, 0]]"
      ]
     },
     "execution_count": 34,
     "metadata": {},
     "output_type": "execute_result"
    }
   ],
   "source": [
    "rappor.reports"
   ]
  },
  {
   "cell_type": "markdown",
   "metadata": {},
   "source": [
    "## Decoding"
   ]
  },
  {
   "cell_type": "code",
   "execution_count": null,
   "metadata": {},
   "outputs": [],
   "source": []
  }
 ],
 "metadata": {
  "kernelspec": {
   "display_name": "lab_work",
   "language": "python",
   "name": "python3"
  },
  "language_info": {
   "codemirror_mode": {
    "name": "ipython",
    "version": 3
   },
   "file_extension": ".py",
   "mimetype": "text/x-python",
   "name": "python",
   "nbconvert_exporter": "python",
   "pygments_lexer": "ipython3",
   "version": "3.11.5"
  }
 },
 "nbformat": 4,
 "nbformat_minor": 2
}
